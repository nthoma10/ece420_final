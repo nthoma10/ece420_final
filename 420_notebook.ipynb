{
 "cells": [
  {
   "cell_type": "code",
   "execution_count": 8,
   "metadata": {},
   "outputs": [],
   "source": [
    "import cv2\n",
    "import numpy as np\n",
    "import random\n",
    "import copy"
   ]
  },
  {
   "cell_type": "markdown",
   "metadata": {},
   "source": [
    "### TM_SQDIFF_NORMED"
   ]
  },
  {
   "cell_type": "code",
   "execution_count": 23,
   "metadata": {},
   "outputs": [
    {
     "name": "stdout",
     "output_type": "stream",
     "text": [
      "Worst and best coeffs:  0.09229989349842072 0.23644156754016876\n",
      "Number of matches 8\n"
     ]
    },
    {
     "data": {
      "text/plain": [
       "-1"
      ]
     },
     "execution_count": 23,
     "metadata": {},
     "output_type": "execute_result"
    }
   ],
   "source": [
    "img = cv2.imread(\"circuit.jpg\")\n",
    "img2 = copy.deepcopy(img)\n",
    "gray = cv2.cvtColor(img, cv2.COLOR_BGR2GRAY)\n",
    "\n",
    "template = cv2.imread(\"resistor.jpg\",0)\n",
    "\n",
    "w, h = template.shape[::-1]\n",
    "\n",
    "res = cv2.matchTemplate(gray, template, cv2.TM_SQDIFF_NORMED)\n",
    "min_val, max_val, min_loc, max_loc = cv2.minMaxLoc(res)\n",
    "\n",
    "# create threshold from min val, find where sqdiff is less than thresh\n",
    "print(\"Worst and best coeffs: \", min_val,max_val)\n",
    "match_locations = np.where(res/max_val >= .986)\n",
    "print(\"Number of matches\", len(match_locations[0]))\n",
    "# draw template match boxes\n",
    "w, h = template.shape[::-1]\n",
    "for (x, y) in zip(match_locations[1], match_locations[0]):\n",
    "    cv2.rectangle(img, (x, y), (x+w, y+h), [0,255,255], 2)\n",
    "    \n",
    "cv2.imshow('', img)\n",
    "cv2.waitKey(0)"
   ]
  },
  {
   "cell_type": "markdown",
   "metadata": {},
   "source": [
    "### TM_SQDIFF"
   ]
  },
  {
   "cell_type": "code",
   "execution_count": 17,
   "metadata": {},
   "outputs": [
    {
     "name": "stdout",
     "output_type": "stream",
     "text": [
      "Worst and best coeffs:  30185056.0 69242720.0\n",
      "Number of matches: 11\n"
     ]
    },
    {
     "data": {
      "text/plain": [
       "-1"
      ]
     },
     "execution_count": 17,
     "metadata": {},
     "output_type": "execute_result"
    }
   ],
   "source": [
    "img2 = cv2.imread(\"circuit.jpg\")\n",
    "\n",
    "res2 = cv2.matchTemplate(gray, template, cv2.TM_SQDIFF)\n",
    "min_val, max_val, min_loc, max_loc = cv2.minMaxLoc(res2)\n",
    "\n",
    "# create threshold from min val, find where sqdiff is less than thresh\n",
    "print(\"Worst and best coeffs: \", min_val,max_val)\n",
    "match_locations = np.where(res2/max_val >=0.985)\n",
    "print(\"Number of matches:\", len(match_locations[0]))\n",
    "# draw template match boxes\n",
    "for (x, y) in zip(match_locations[1], match_locations[0]):\n",
    "    cv2.rectangle(img2, (x, y), (x+w, y+h), [0,255,255], 2)\n",
    "    \n",
    "cv2.imshow('', img2)\n",
    "cv2.waitKey(0)"
   ]
  },
  {
   "cell_type": "markdown",
   "metadata": {},
   "source": [
    "### TM_CCORR_NORMED"
   ]
  },
  {
   "cell_type": "code",
   "execution_count": 30,
   "metadata": {},
   "outputs": [
    {
     "name": "stdout",
     "output_type": "stream",
     "text": [
      "Worst and best coeffs:  0.8830991387367249 0.9556045532226562\n",
      "Number of matches: 700500\n"
     ]
    },
    {
     "data": {
      "text/plain": [
       "-1"
      ]
     },
     "execution_count": 30,
     "metadata": {},
     "output_type": "execute_result"
    }
   ],
   "source": [
    "del img2\n",
    "del res2 \n",
    "\n",
    "img2 = cv2.imread(\"circuit.jpg\")\n",
    "\n",
    "res2 = cv2.matchTemplate(gray, template, cv2.TM_CCORR_NORMED)\n",
    "min_val, max_val, min_loc, max_loc = cv2.minMaxLoc(res2)\n",
    "\n",
    "# create threshold from min val, find where sqdiff is less than thresh\n",
    "print(\"Worst and best coeffs: \", min_val,max_val)\n",
    "match_locations = np.where(res2/max_val >=0.99)\n",
    "print(\"Number of matches:\", len(match_locations[0]))\n",
    "# draw template match boxes\n",
    "for (x, y) in zip(match_locations[1], match_locations[0]):\n",
    "    cv2.rectangle(img2, (x, y), (x+w, y+h), [0,255,255], 2)\n",
    "    \n",
    "cv2.imshow('', img2)\n",
    "cv2.waitKey(0)"
   ]
  },
  {
   "cell_type": "markdown",
   "metadata": {},
   "source": [
    "### TM_CCORR"
   ]
  },
  {
   "cell_type": "code",
   "execution_count": 31,
   "metadata": {},
   "outputs": [
    {
     "name": "stdout",
     "output_type": "stream",
     "text": [
      "Worst and best coeffs:  258534144.0 314369248.0\n",
      "Number of matches: 669334\n"
     ]
    },
    {
     "data": {
      "text/plain": [
       "-1"
      ]
     },
     "execution_count": 31,
     "metadata": {},
     "output_type": "execute_result"
    }
   ],
   "source": [
    "del img2\n",
    "del res2 \n",
    "\n",
    "img2 = cv2.imread(\"circuit.jpg\")\n",
    "\n",
    "res2 = cv2.matchTemplate(gray, template, cv2.TM_CCORR)\n",
    "min_val, max_val, min_loc, max_loc = cv2.minMaxLoc(res2)\n",
    "\n",
    "# create threshold from min val, find where sqdiff is less than thresh\n",
    "print(\"Worst and best coeffs: \", min_val,max_val)\n",
    "match_locations = np.where(res2/max_val >=0.99)\n",
    "print(\"Number of matches:\", len(match_locations[0]))\n",
    "# draw template match boxes\n",
    "for (x, y) in zip(match_locations[1], match_locations[0]):\n",
    "    cv2.rectangle(img2, (x, y), (x+w, y+h), [0,255,255], 2)\n",
    "    \n",
    "cv2.imshow('', img2)\n",
    "cv2.waitKey(0)"
   ]
  },
  {
   "cell_type": "markdown",
   "metadata": {},
   "source": [
    "### TM_CCOEFF"
   ]
  },
  {
   "cell_type": "code",
   "execution_count": 37,
   "metadata": {},
   "outputs": [
    {
     "name": "stdout",
     "output_type": "stream",
     "text": [
      "Worst and best coeffs:  -2768821.0 8003956.5\n",
      "Number of matches: 12\n"
     ]
    },
    {
     "data": {
      "text/plain": [
       "-1"
      ]
     },
     "execution_count": 37,
     "metadata": {},
     "output_type": "execute_result"
    }
   ],
   "source": [
    "del img2\n",
    "del res2 \n",
    "\n",
    "img2 = cv2.imread(\"circuit.jpg\")\n",
    "\n",
    "res2 = cv2.matchTemplate(gray, template, cv2.TM_CCOEFF)\n",
    "min_val, max_val, min_loc, max_loc = cv2.minMaxLoc(res2)\n",
    "\n",
    "# create threshold from min val, find where sqdiff is less than thresh\n",
    "print(\"Worst and best coeffs: \", min_val,max_val)\n",
    "match_locations = np.where(res2/max_val >=0.955)\n",
    "print(\"Number of matches:\", len(match_locations[0]))\n",
    "# draw template match boxes\n",
    "for (x, y) in zip(match_locations[1], match_locations[0]):\n",
    "    cv2.rectangle(img2, (x, y), (x+w, y+h), [0,255,255], 2)\n",
    "    \n",
    "cv2.imshow('', img2)\n",
    "cv2.waitKey(0)"
   ]
  },
  {
   "cell_type": "markdown",
   "metadata": {},
   "source": [
    "### TM_CCOEFF_NORMED"
   ]
  },
  {
   "cell_type": "code",
   "execution_count": 38,
   "metadata": {},
   "outputs": [
    {
     "name": "stdout",
     "output_type": "stream",
     "text": [
      "Worst and best coeffs:  -0.12118418514728546 0.3036484122276306\n",
      "Number of matches: 6\n"
     ]
    },
    {
     "data": {
      "text/plain": [
       "-1"
      ]
     },
     "execution_count": 38,
     "metadata": {},
     "output_type": "execute_result"
    }
   ],
   "source": [
    "del img2\n",
    "del res2 \n",
    "\n",
    "img2 = cv2.imread(\"circuit.jpg\")\n",
    "\n",
    "res2 = cv2.matchTemplate(gray, template, cv2.TM_CCOEFF_NORMED)\n",
    "min_val, max_val, min_loc, max_loc = cv2.minMaxLoc(res2)\n",
    "\n",
    "# create threshold from min val, find where sqdiff is less than thresh\n",
    "print(\"Worst and best coeffs: \", min_val,max_val)\n",
    "match_locations = np.where(res2/max_val >=0.955)\n",
    "print(\"Number of matches:\", len(match_locations[0]))\n",
    "# draw template match boxes\n",
    "for (x, y) in zip(match_locations[1], match_locations[0]):\n",
    "    cv2.rectangle(img2, (x, y), (x+w, y+h), [0,255,255], 2)\n",
    "    \n",
    "cv2.imshow('', img2)\n",
    "cv2.waitKey(0)"
   ]
  },
  {
   "cell_type": "code",
   "execution_count": null,
   "metadata": {},
   "outputs": [],
   "source": []
  }
 ],
 "metadata": {
  "kernelspec": {
   "display_name": "Python 3",
   "language": "python",
   "name": "python3"
  },
  "language_info": {
   "codemirror_mode": {
    "name": "ipython",
    "version": 3
   },
   "file_extension": ".py",
   "mimetype": "text/x-python",
   "name": "python",
   "nbconvert_exporter": "python",
   "pygments_lexer": "ipython3",
   "version": "3.7.1"
  }
 },
 "nbformat": 4,
 "nbformat_minor": 2
}
